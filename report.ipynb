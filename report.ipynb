{
 "cells": [
  {
   "cell_type": "markdown",
   "id": "5fc82b776e4b41e3",
   "metadata": {
    "collapsed": false
   },
   "source": [
    "Basic setup for polars with s3fs."
   ]
  },
  {
   "cell_type": "code",
   "execution_count": 9,
   "id": "24cbd74c8f85db08",
   "metadata": {
    "collapsed": false,
    "ExecuteTime": {
     "end_time": "2024-02-13T15:24:17.085060455Z",
     "start_time": "2024-02-13T15:24:17.049217226Z"
    }
   },
   "outputs": [],
   "source": [
    "import s3fs\n",
    "import polars as pl\n",
    "import json\n",
    "\n",
    "s3 = s3fs.S3FileSystem()"
   ]
  },
  {
   "cell_type": "markdown",
   "id": "9231de5da45d1a60",
   "metadata": {
    "collapsed": false
   },
   "source": [
    "I explicitly set the schema for productivity here, rather than infer, mostly to avoid the need to trim whitespace from \n",
    "column names."
   ]
  },
  {
   "cell_type": "code",
   "execution_count": 10,
   "id": "9e32a9f7d7a72b4f",
   "metadata": {
    "collapsed": false,
    "ExecuteTime": {
     "end_time": "2024-02-13T15:24:17.098122608Z",
     "start_time": "2024-02-13T15:24:17.087487898Z"
    }
   },
   "outputs": [],
   "source": [
    "productivity_schema = {\n",
    "    \"series_id\": pl.Utf8,\n",
    "    \"year\": pl.Int64,\n",
    "    \"period\": pl.Utf8,\n",
    "    \"value\": pl.Float64,\n",
    "    \"footnote_codes\": pl.Utf8\n",
    "}"
   ]
  },
  {
   "cell_type": "markdown",
   "source": [
    "Part 3.0: Load BLS productivity and datanation USA population datasets from s3. Trim whitespace from productivity. \n",
    "Get just the `data` element from the population json, as there was also metadata in that file."
   ],
   "metadata": {
    "collapsed": false
   },
   "id": "cc71b47190a3df93"
  },
  {
   "cell_type": "code",
   "outputs": [],
   "source": [
    "productivity_df = pl.read_csv(\"s3://newell-data-quest/pr.data.0.Current\", separator='\\t',\n",
    "                              schema=productivity_schema).with_columns(pl.col(pl.Utf8).str.strip_chars())\n",
    "population_df = pl.DataFrame(json.loads(s3.open('s3://newell-data-quest/datausa_nation_pop.json').read())['data'])\n"
   ],
   "metadata": {
    "collapsed": false,
    "ExecuteTime": {
     "end_time": "2024-02-13T15:24:17.907995858Z",
     "start_time": "2024-02-13T15:24:17.098278491Z"
    }
   },
   "id": "d4915732efe4cc22",
   "execution_count": 11
  },
  {
   "cell_type": "markdown",
   "id": "a7dedd0e0c31db5e",
   "metadata": {
    "collapsed": false
   },
   "source": [
    "Part 3.1: Filter USA population down to the required years, and calculate population mean."
   ]
  },
  {
   "cell_type": "code",
   "execution_count": 12,
   "id": "737ca3e5e9c02d11",
   "metadata": {
    "collapsed": false,
    "ExecuteTime": {
     "end_time": "2024-02-13T15:24:17.949402814Z",
     "start_time": "2024-02-13T15:24:17.948347825Z"
    }
   },
   "outputs": [
    {
     "data": {
      "text/plain": "shape: (1, 1)\n┌─────────────────┐\n│ population_mean │\n│ ---             │\n│ f64             │\n╞═════════════════╡\n│ 3.17437383e8    │\n└─────────────────┘",
      "text/html": "<div><style>\n.dataframe > thead > tr,\n.dataframe > tbody > tr {\n  text-align: right;\n  white-space: pre-wrap;\n}\n</style>\n<small>shape: (1, 1)</small><table border=\"1\" class=\"dataframe\"><thead><tr><th>population_mean</th></tr><tr><td>f64</td></tr></thead><tbody><tr><td>3.17437383e8</td></tr></tbody></table></div>"
     },
     "execution_count": 12,
     "metadata": {},
     "output_type": "execute_result"
    }
   ],
   "source": [
    "selected_years_df = population_df.filter(\n",
    "    pl.col('ID Year') >= 2013,\n",
    "    pl.col('ID Year') <= 2018\n",
    ")\n",
    "\n",
    "selected_years_df.mean().select(pl.col('Population').alias('population_mean'))"
   ]
  },
  {
   "cell_type": "markdown",
   "source": [
    "And the standard deviation."
   ],
   "metadata": {
    "collapsed": false
   },
   "id": "dea68130f583a1ec"
  },
  {
   "cell_type": "code",
   "outputs": [
    {
     "data": {
      "text/plain": "shape: (1, 1)\n┌────────────────┐\n│ population_std │\n│ ---            │\n│ f64            │\n╞════════════════╡\n│ 4.2571e6       │\n└────────────────┘",
      "text/html": "<div><style>\n.dataframe > thead > tr,\n.dataframe > tbody > tr {\n  text-align: right;\n  white-space: pre-wrap;\n}\n</style>\n<small>shape: (1, 1)</small><table border=\"1\" class=\"dataframe\"><thead><tr><th>population_std</th></tr><tr><td>f64</td></tr></thead><tbody><tr><td>4.2571e6</td></tr></tbody></table></div>"
     },
     "execution_count": 13,
     "metadata": {},
     "output_type": "execute_result"
    }
   ],
   "source": [
    "selected_years_df.std().select(pl.col('Population').alias('population_std'))"
   ],
   "metadata": {
    "collapsed": false,
    "ExecuteTime": {
     "end_time": "2024-02-13T15:24:17.952842336Z",
     "start_time": "2024-02-13T15:24:17.948566906Z"
    }
   },
   "id": "64a8d74ff78ff6cb",
   "execution_count": 13
  },
  {
   "cell_type": "markdown",
   "source": [
    "Part 3.2 Load BLS productivity from s3, find the \"best year.\""
   ],
   "metadata": {
    "collapsed": false
   },
   "id": "656246411c66fb18"
  },
  {
   "cell_type": "code",
   "outputs": [
    {
     "data": {
      "text/plain": "shape: (282, 3)\n┌─────────────┬──────┬─────────────┐\n│ series_id   ┆ year ┆ total_value │\n│ ---         ┆ ---  ┆ ---         │\n│ str         ┆ i64  ┆ f64         │\n╞═════════════╪══════╪═════════════╡\n│ PRS30006011 ┆ 2022 ┆ 21.4        │\n│ PRS30006012 ┆ 2022 ┆ 17.6        │\n│ PRS30006013 ┆ 1998 ┆ 703.575     │\n│ PRS30006021 ┆ 2010 ┆ 17.7        │\n│ PRS30006022 ┆ 2010 ┆ 12.5        │\n│ …           ┆ …    ┆ …           │\n│ PRS88003192 ┆ 2002 ┆ 282.8       │\n│ PRS88003193 ┆ 2022 ┆ 765.817     │\n│ PRS88003201 ┆ 2022 ┆ 36.1        │\n│ PRS88003202 ┆ 2022 ┆ 28.9        │\n│ PRS88003203 ┆ 2022 ┆ 568.533     │\n└─────────────┴──────┴─────────────┘",
      "text/html": "<div><style>\n.dataframe > thead > tr,\n.dataframe > tbody > tr {\n  text-align: right;\n  white-space: pre-wrap;\n}\n</style>\n<small>shape: (282, 3)</small><table border=\"1\" class=\"dataframe\"><thead><tr><th>series_id</th><th>year</th><th>total_value</th></tr><tr><td>str</td><td>i64</td><td>f64</td></tr></thead><tbody><tr><td>&quot;PRS30006011&quot;</td><td>2022</td><td>21.4</td></tr><tr><td>&quot;PRS30006012&quot;</td><td>2022</td><td>17.6</td></tr><tr><td>&quot;PRS30006013&quot;</td><td>1998</td><td>703.575</td></tr><tr><td>&quot;PRS30006021&quot;</td><td>2010</td><td>17.7</td></tr><tr><td>&quot;PRS30006022&quot;</td><td>2010</td><td>12.5</td></tr><tr><td>&quot;PRS30006023&quot;</td><td>2014</td><td>502.951</td></tr><tr><td>&quot;PRS30006031&quot;</td><td>2022</td><td>21.6</td></tr><tr><td>&quot;PRS30006032&quot;</td><td>2021</td><td>17.6</td></tr><tr><td>&quot;PRS30006033&quot;</td><td>1998</td><td>699.946</td></tr><tr><td>&quot;PRS30006061&quot;</td><td>2022</td><td>39.1</td></tr><tr><td>&quot;PRS30006062&quot;</td><td>2021</td><td>31.3</td></tr><tr><td>&quot;PRS30006063&quot;</td><td>2023</td><td>630.888</td></tr><tr><td>&hellip;</td><td>&hellip;</td><td>&hellip;</td></tr><tr><td>&quot;PRS88003171&quot;</td><td>2020</td><td>15.2</td></tr><tr><td>&quot;PRS88003172&quot;</td><td>2020</td><td>14.1</td></tr><tr><td>&quot;PRS88003173&quot;</td><td>2001</td><td>558.625</td></tr><tr><td>&quot;PRS88003181&quot;</td><td>2021</td><td>186.0</td></tr><tr><td>&quot;PRS88003182&quot;</td><td>2020</td><td>323.9</td></tr><tr><td>&quot;PRS88003183&quot;</td><td>2022</td><td>877.438</td></tr><tr><td>&quot;PRS88003191&quot;</td><td>2010</td><td>153.0</td></tr><tr><td>&quot;PRS88003192&quot;</td><td>2002</td><td>282.8</td></tr><tr><td>&quot;PRS88003193&quot;</td><td>2022</td><td>765.817</td></tr><tr><td>&quot;PRS88003201&quot;</td><td>2022</td><td>36.1</td></tr><tr><td>&quot;PRS88003202&quot;</td><td>2022</td><td>28.9</td></tr><tr><td>&quot;PRS88003203&quot;</td><td>2022</td><td>568.533</td></tr></tbody></table></div>"
     },
     "execution_count": 14,
     "metadata": {},
     "output_type": "execute_result"
    }
   ],
   "source": [
    "(productivity_df\n",
    "    .group_by('series_id', 'year')\n",
    "    .agg([\n",
    "        pl.sum('value').alias('total_value'),\n",
    "    ])\n",
    "    .sort('series_id', 'total_value', descending=[False, True])\n",
    "    .group_by('series_id')\n",
    "    .first()\n",
    "    .sort('series_id')\n",
    " )\n"
   ],
   "metadata": {
    "collapsed": false,
    "ExecuteTime": {
     "end_time": "2024-02-13T15:24:18.039006683Z",
     "start_time": "2024-02-13T15:24:17.952702133Z"
    }
   },
   "id": "15819ed64b77b82f",
   "execution_count": 14
  },
  {
   "cell_type": "markdown",
   "source": [
    "Part 3.3: Join the productivity and population dataframes, for series_id = PRS30006032 and period = Q01."
   ],
   "metadata": {
    "collapsed": false
   },
   "id": "a1d2ef154c5d8e4"
  },
  {
   "cell_type": "code",
   "outputs": [
    {
     "data": {
      "text/plain": "shape: (9, 5)\n┌─────────────┬─────────┬────────┬───────┬────────────┐\n│ series_id   ┆ ID Year ┆ period ┆ value ┆ Population │\n│ ---         ┆ ---     ┆ ---    ┆ ---   ┆ ---        │\n│ str         ┆ i64     ┆ str    ┆ f64   ┆ i64        │\n╞═════════════╪═════════╪════════╪═══════╪════════════╡\n│ PRS30006032 ┆ 2013    ┆ Q01    ┆ 1.2   ┆ 311536594  │\n│ PRS30006032 ┆ 2014    ┆ Q01    ┆ 0.0   ┆ 314107084  │\n│ PRS30006032 ┆ 2015    ┆ Q01    ┆ -1.7  ┆ 316515021  │\n│ PRS30006032 ┆ 2016    ┆ Q01    ┆ -1.8  ┆ 318558162  │\n│ PRS30006032 ┆ 2017    ┆ Q01    ┆ 1.0   ┆ 321004407  │\n│ PRS30006032 ┆ 2018    ┆ Q01    ┆ -0.1  ┆ 322903030  │\n│ PRS30006032 ┆ 2019    ┆ Q01    ┆ -2.4  ┆ 324697795  │\n│ PRS30006032 ┆ 2020    ┆ Q01    ┆ -6.5  ┆ 326569308  │\n│ PRS30006032 ┆ 2021    ┆ Q01    ┆ 1.3   ┆ 329725481  │\n└─────────────┴─────────┴────────┴───────┴────────────┘",
      "text/html": "<div><style>\n.dataframe > thead > tr,\n.dataframe > tbody > tr {\n  text-align: right;\n  white-space: pre-wrap;\n}\n</style>\n<small>shape: (9, 5)</small><table border=\"1\" class=\"dataframe\"><thead><tr><th>series_id</th><th>ID Year</th><th>period</th><th>value</th><th>Population</th></tr><tr><td>str</td><td>i64</td><td>str</td><td>f64</td><td>i64</td></tr></thead><tbody><tr><td>&quot;PRS30006032&quot;</td><td>2013</td><td>&quot;Q01&quot;</td><td>1.2</td><td>311536594</td></tr><tr><td>&quot;PRS30006032&quot;</td><td>2014</td><td>&quot;Q01&quot;</td><td>0.0</td><td>314107084</td></tr><tr><td>&quot;PRS30006032&quot;</td><td>2015</td><td>&quot;Q01&quot;</td><td>-1.7</td><td>316515021</td></tr><tr><td>&quot;PRS30006032&quot;</td><td>2016</td><td>&quot;Q01&quot;</td><td>-1.8</td><td>318558162</td></tr><tr><td>&quot;PRS30006032&quot;</td><td>2017</td><td>&quot;Q01&quot;</td><td>1.0</td><td>321004407</td></tr><tr><td>&quot;PRS30006032&quot;</td><td>2018</td><td>&quot;Q01&quot;</td><td>-0.1</td><td>322903030</td></tr><tr><td>&quot;PRS30006032&quot;</td><td>2019</td><td>&quot;Q01&quot;</td><td>-2.4</td><td>324697795</td></tr><tr><td>&quot;PRS30006032&quot;</td><td>2020</td><td>&quot;Q01&quot;</td><td>-6.5</td><td>326569308</td></tr><tr><td>&quot;PRS30006032&quot;</td><td>2021</td><td>&quot;Q01&quot;</td><td>1.3</td><td>329725481</td></tr></tbody></table></div>"
     },
     "execution_count": 15,
     "metadata": {},
     "output_type": "execute_result"
    }
   ],
   "source": [
    "(population_df\n",
    "    .join(productivity_df, left_on='ID Year', right_on='year', how='inner')\n",
    "    .filter(\n",
    "        pl.col('series_id') == 'PRS30006032',\n",
    "        pl.col('period') == 'Q01'\n",
    "    )\n",
    "    .select('series_id', 'ID Year', 'period', 'value', 'Population'))"
   ],
   "metadata": {
    "collapsed": false,
    "ExecuteTime": {
     "end_time": "2024-02-13T15:24:18.040087560Z",
     "start_time": "2024-02-13T15:24:18.000419547Z"
    }
   },
   "id": "1ac328931f9779fc",
   "execution_count": 15
  }
 ],
 "metadata": {
  "kernelspec": {
   "display_name": "Python 3 (ipykernel)",
   "language": "python",
   "name": "python3"
  },
  "language_info": {
   "codemirror_mode": {
    "name": "ipython",
    "version": 3
   },
   "file_extension": ".py",
   "mimetype": "text/x-python",
   "name": "python",
   "nbconvert_exporter": "python",
   "pygments_lexer": "ipython3",
   "version": "3.9.17"
  }
 },
 "nbformat": 4,
 "nbformat_minor": 5
}
